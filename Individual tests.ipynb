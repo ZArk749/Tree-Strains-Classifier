{
 "cells": [
  {
   "cell_type": "code",
   "execution_count": 75,
   "id": "5f2e35be",
   "metadata": {},
   "outputs": [],
   "source": [
    "%run code\\TreeStrains.py\n",
    "%run code\\SimilarityFunction.py"
   ]
  },
  {
   "cell_type": "code",
   "execution_count": 106,
   "id": "0c0f1c75",
   "metadata": {},
   "outputs": [
    {
     "name": "stdout",
     "output_type": "stream",
     "text": [
      "n classes: 20\n"
     ]
    },
    {
     "data": {
      "text/plain": [
       "11312"
      ]
     },
     "execution_count": 106,
     "metadata": {},
     "output_type": "execute_result"
    }
   ],
   "source": [
    "# Dataset\n",
    "import os\n",
    "import pandas as pd\n",
    "PATH = os.path.join(\"Datasets\", \"20newsgroups.csv\")\n",
    "dataset = pd.read_csv(\"Datasets/20newsgroups.csv\",header=0)\n",
    "\n",
    "X = dataset.iloc[:,:len(dataset.columns)-1].to_numpy()\n",
    "y = dataset.iloc[:,-1:].to_numpy()\n",
    "y = np.ravel(y.astype(int))\n",
    "\n",
    "print(\"n classes:\", np.max(y)+1)\n",
    "len(X)"
   ]
  },
  {
   "cell_type": "code",
   "execution_count": 65,
   "id": "19f90f5b",
   "metadata": {},
   "outputs": [],
   "source": [
    "SimilarityFunction(X, metric='rbf')\n",
    "pass"
   ]
  },
  {
   "cell_type": "code",
   "execution_count": 22,
   "id": "c342f3b7",
   "metadata": {},
   "outputs": [
    {
     "name": "stdout",
     "output_type": "stream",
     "text": [
      "[4.9 3.  1.4 0.2]\n",
      "0\n"
     ]
    }
   ],
   "source": [
    "print(X[0])\n",
    "\n",
    "print(y[0])"
   ]
  },
  {
   "cell_type": "code",
   "execution_count": null,
   "id": "aadf4a06",
   "metadata": {
    "scrolled": true
   },
   "outputs": [],
   "source": [
    "from sklearn.ensemble import RandomForestClassifier\n",
    "from sklearn.tree import DecisionTreeClassifier\n",
    "from sklearn.svm import SVC\n",
    "\n",
    "from sklearn.model_selection import train_test_split\n",
    "from sklearn.metrics import accuracy_score,balanced_accuracy_score,roc_auc_score,f1_score\n",
    "\n",
    "X_train, X_test, y_train, y_test = train_test_split(\n",
    "        X, y, test_size=0.33, random_state=42) \n",
    "    \n",
    "rnd_clf = RandomForestClassifier()\n",
    "rnd_clf.fit(X_train,y_train)\n",
    "y_pred = rnd_clf.predict(X_test)\n",
    "print(accuracy_score(y_test, y_pred))\n",
    "\n",
    "clf = TreeStrainsClassifier(n_estimators=50, base_estimator=DecisionTreeClassifier(),\n",
    "                                 similarity_metric='rbf', verbose=1, seed_replacement=False, autofill=True)\n",
    "clf.fit(X_train,y_train)\n",
    "y_pred = clf.predict(X_test)\n",
    "print(accuracy_score(y_test, y_pred))"
   ]
  },
  {
   "cell_type": "code",
   "execution_count": null,
   "id": "58437308",
   "metadata": {
    "scrolled": true
   },
   "outputs": [],
   "source": [
    "clf = TreeStrains(n_estimators=50, base_estimator=DecisionTreeClassifier(),\n",
    "                                 similarity_metric='laplacian', verbose=1)\n",
    "clf.fit(X_train,y_train)\n"
   ]
  },
  {
   "cell_type": "code",
   "execution_count": null,
   "id": "947db4f6",
   "metadata": {
    "scrolled": true
   },
   "outputs": [],
   "source": [
    "y_pred = clf.predict(X_test)\n",
    "print(accuracy_score(y_test, y_pred))"
   ]
  },
  {
   "cell_type": "code",
   "execution_count": null,
   "id": "cc7174e6",
   "metadata": {},
   "outputs": [],
   "source": [
    "clf = TreeStrains(n_estimators=50, base_estimator=DecisionTreeClassifier(),\n",
    "                                 similarity_metric='laplacian', verbose=1, autofill=1)\n",
    "\n",
    "metrics = CrossValidation(clf,X,y)\n",
    "\n",
    "for key in metrics:\n",
    "    print(key)\n",
    "    print(metrics[key])"
   ]
  }
 ],
 "metadata": {
  "kernelspec": {
   "display_name": "Python 3 (ipykernel)",
   "language": "python",
   "name": "python3"
  },
  "language_info": {
   "codemirror_mode": {
    "name": "ipython",
    "version": 3
   },
   "file_extension": ".py",
   "mimetype": "text/x-python",
   "name": "python",
   "nbconvert_exporter": "python",
   "pygments_lexer": "ipython3",
   "version": "3.9.5"
  }
 },
 "nbformat": 4,
 "nbformat_minor": 5
}
